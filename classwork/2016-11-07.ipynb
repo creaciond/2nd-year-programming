{
 "cells": [
  {
   "cell_type": "markdown",
   "metadata": {},
   "source": [
    "# Flask: повторение"
   ]
  },
  {
   "cell_type": "markdown",
   "metadata": {},
   "source": [
    "## Структура проекта\n",
    "В среднем, структура проекта на Flask выглядит так *(и должна выглядеть так)*:\n",
    "```\n",
    "my_app\n",
    "    templates\n",
    "    static\n",
    "        img\n",
    "        style.css\n",
    "    myapp.py\n",
    "```\n",
    "\n",
    "## Процентная кодировка\n",
    "*Сумасшедший кот очень смешно 3D*\n",
    "\n",
    "— результат Яндекса по запросу \"котики\"\n",
    "\n",
    "Например, если искать в Яндексе, то ссылка, которая вернётся, будет иметь вид `yandex.ru/search/?msid=(какие-то_цифры)&text=(процентная_кодировка)`. Это происходит, потому что в сроке не может быть символов Юникода. \n",
    "\n",
    "Для того, чтобы перекодировать любой текст в процентную кодировку, существуют специальные функции в модуле urllib.parse:"
   ]
  },
  {
   "cell_type": "code",
   "execution_count": null,
   "metadata": {
    "collapsed": true
   },
   "outputs": [],
   "source": [
    "from urllib.parse import quote, unquote"
   ]
  },
  {
   "cell_type": "markdown",
   "metadata": {},
   "source": [
    "Функция `quote(строка)` вернёт строку, закодированную в процентной кодировке, `unquote()` — из процентной кодировки сделает юникодную строку."
   ]
  },
  {
   "cell_type": "code",
   "execution_count": null,
   "metadata": {
    "collapsed": true
   },
   "outputs": [],
   "source": [
    ">>> quote('котик')\n",
    "'%D0%BA%D0%BE%D1%82%D0%B8%D0%BA'\n",
    ">>> unquote('%D0%BA%D0%BE%D1%82%D0%B8%D0%BA')\n",
    "'котик'"
   ]
  },
  {
   "cell_type": "markdown",
   "metadata": {},
   "source": [
    "## Собственный корпус\n",
    "Структура проекта/папки:\n",
    "```\n",
    "corpus\n",
    "    templates\n",
    "        index.html\n",
    "    data\n",
    "        test.txt\n",
    "    corpus-code.py\n",
    "```\n",
    "\n",
    "В качестве текста для корпуса — Тысяча и одна ночь с сайта Гутенберга (https://www.gutenberg.org/files/34206/34206-0.txt).\n",
    "\n",
    "Минимальный код для запуска хотя бы чего-то на фласке:"
   ]
  },
  {
   "cell_type": "code",
   "execution_count": null,
   "metadata": {
    "collapsed": true
   },
   "outputs": [],
   "source": [
    "from flask import Flask\n",
    "from flask import render_template\n",
    "\n",
    "app = Flask(__name__)\n",
    "\n",
    "@app.route('/')\n",
    "def index():\n",
    "    return render_template('index.html')\n",
    "\n",
    "if __name__ == '__main__':\n",
    "    app.run(debug=True)"
   ]
  },
  {
   "cell_type": "markdown",
   "metadata": {},
   "source": [
    "При этом index.html выглядит так:\n",
    "```html\n",
    "<html>\n",
    "\t<head>\n",
    "\t\t<title>Корпус</title>\n",
    "\t</head>\n",
    "\t<body>\n",
    "\t\t<h1>Добро пожаловать в корпус \"Тысяча и одна ночь!\"!/h1>\n",
    "\t</body>\n",
    "</html>\n",
    "```"
   ]
  },
  {
   "cell_type": "markdown",
   "metadata": {},
   "source": [
    "Добавляем функции в код. Во-первых, должна быть **страница results**, на которую пользователь будет попадать, если он что-то введёт в форму на главной странице. Если нет, то программа отправляет его обратно на index."
   ]
  },
  {
   "cell_type": "code",
   "execution_count": null,
   "metadata": {
    "collapsed": true
   },
   "outputs": [],
   "source": [
    "# Добавляем нужные модули и функции\n",
    "from flask import render_template, redirect, url_for, request\n",
    "from urllib.parse import unquote\n",
    "\n",
    "# Сама функция\n",
    "@app.route('/results')\n",
    "def result(request):\n",
    "    if request.args:\n",
    "        word = unquote(request.args['word'])\n",
    "        sentences = search(word)\n",
    "        return render_te('results.html', sents=sentences)\n",
    "    return redirect(url_for('index'))"
   ]
  },
  {
   "cell_type": "markdown",
   "metadata": {},
   "source": [
    "Во-вторых, нужно где-то искать, значит, нужно **\"собрать\" корпус из текста**. Функция `collect_corpus()` берёт текст, читает его по строчкам, удаляет пробелы в конце и записывает строчку в массив, если она не пустая. Полученный массов строчек возвращается. Этот массив записывается в переменную corpus, которую мы будем хранить в главной функции после `if __name__ == '__main__'`"
   ]
  },
  {
   "cell_type": "code",
   "execution_count": null,
   "metadata": {
    "collapsed": true
   },
   "outputs": [],
   "source": [
    "def collect_corpus():\n",
    "    with open('data/test.txt', 'r', encoding='utf-8') as f:\n",
    "        sents = [line.strip() for line in f.readlines()\n",
    "                if line.strip != '']\n",
    "    return sents\n",
    "\n",
    "# Добавляем переменную с корпусом в главную функцию:\n",
    "if __name__ == '__main__':\n",
    "    corpus = collect_corpus()\n",
    "    app.run(debug=True)"
   ]
  },
  {
   "cell_type": "markdown",
   "metadata": {},
   "source": [
    "### Отступление: list comprehensions\n",
    "(когда-нибудь будет)\n",
    "___\n",
    "\n",
    "Ещё нужна **функция поиска** (здесь тоже используются list comprehesions):"
   ]
  },
  {
   "cell_type": "code",
   "execution_count": null,
   "metadata": {
    "collapsed": true
   },
   "outputs": [],
   "source": [
    "def search(word):\n",
    "    return [sent for sent in corpus if word in sent]"
   ]
  },
  {
   "cell_type": "markdown",
   "metadata": {},
   "source": [
    "По пути верстаем **страницу с результатами results.html**, в ней используются последовательности в фигурных скобках:\n",
    "\n",
    "* `{%%}` используется для цикла (который надо обязательно закрыть при помощи `{% endfor %}`, в отличие от питона\n",
    "* `{}` — для вывода переменной\n",
    "```html\n",
    "<html>\n",
    "\t<head>\n",
    "\t\t<title>Корпус</title>\n",
    "\t</head>\n",
    "\t<body>\n",
    "\t\t<h1>Результаты</h1>\n",
    "\t\t<ol>\n",
    "\t\t{% for sent in sents %}\n",
    "\t\t\t<li> {{ sent }} </li>\n",
    "\t\t{% endfor %}\n",
    "\t\t</ol>\n",
    "\t</body>\n",
    "</html>\n",
    "```"
   ]
  },
  {
   "cell_type": "markdown",
   "metadata": {},
   "source": [
    "### Прикручиваем дополнительные плюшки\n",
    "Выделим **результат поиска жирным**. Для этого немного дополним код results.html:\n",
    "```html\n",
    "{% for sent in sents %}\n",
    "\t\t\t<li> {{ sent | safe }} </li>\n",
    "\t\t{% endfor %}\n",
    "```\n",
    "Такая последовательность говорит фласку, что всё ок, на месте sent будет нормальный html-код, который можно будет нормально скомпилировать.\n",
    "\n",
    "После этого — поправим код в функции поиска:"
   ]
  },
  {
   "cell_type": "code",
   "execution_count": null,
   "metadata": {
    "collapsed": true
   },
   "outputs": [],
   "source": [
    "def search(word):\n",
    "    return [sent.replace(word, '<b>' + word + '</b>') for sent in corpus if word in sent]"
   ]
  },
  {
   "cell_type": "markdown",
   "metadata": {},
   "source": [
    "Функция `sent.replace(word, '<b>' + word + '</b>')` меняет просто вхождения word на вхождения word в теге <b>, т.е. делает их жирными."
   ]
  },
  {
   "cell_type": "markdown",
   "metadata": {},
   "source": [
    "### Код и результаты работы\n",
    "Здесь же в папке 2016-11-07 corpus:\n",
    "* corpus_code.py — сам код,\n",
    "* templates — html-коды страниц\n",
    "* папка data, в которой test.txt — исходный текст, по которому мы ищем"
   ]
  }
 ],
 "metadata": {
  "kernelspec": {
   "display_name": "Python 3",
   "language": "python",
   "name": "python3"
  },
  "language_info": {
   "codemirror_mode": {
    "name": "ipython",
    "version": 3
   },
   "file_extension": ".py",
   "mimetype": "text/x-python",
   "name": "python",
   "nbconvert_exporter": "python",
   "pygments_lexer": "ipython3",
   "version": "3.5.1"
  }
 },
 "nbformat": 4,
 "nbformat_minor": 1
}
