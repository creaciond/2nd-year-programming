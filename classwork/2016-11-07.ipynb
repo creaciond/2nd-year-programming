{
 "cells": [
  {
   "cell_type": "markdown",
   "metadata": {},
   "source": [
    "# Flask: повторение"
   ]
  },
  {
   "cell_type": "markdown",
   "metadata": {},
   "source": [
    "## Структура проекта\n",
    "В среднем, структура проекта на Flask выглядит так *(и должна выглядеть так)*:\n",
    "```\n",
    "my_app\n",
    "    templates\n",
    "    static\n",
    "        img\n",
    "        style.css\n",
    "    myapp.py\n",
    "```\n",
    "\n",
    "## Процентная кодировка\n",
    "*Сумасшедший кот очень смешно 3D*\n",
    "— результат Яндекса по запросу \"котики\"\n",
    "\n",
    "Например, если искать в Яндексе, то ссылка, которая вернётся, будет иметь вид `yandex.ru/search/?msid=(какие-то_цифры)&text=(процентная_кодировка)`. Это происходит, потому что в сроке не может быть символов Юникода. \n",
    "Для того, чтобы перекодировать любой текст в процентную кодировку, существуют специальные функции в модуле urllib.parse:"
   ]
  },
  {
   "cell_type": "code",
   "execution_count": null,
   "metadata": {
    "collapsed": true
   },
   "outputs": [],
   "source": [
    "from urllib.parse import quote, unquote"
   ]
  },
  {
   "cell_type": "markdown",
   "metadata": {},
   "source": [
    "Функция `quote(строка)` вернёт строку, закодированную в процентной кодировке, `unquote()` — из процентной кодировки сделает юникодную строку."
   ]
  },
  {
   "cell_type": "code",
   "execution_count": null,
   "metadata": {
    "collapsed": true
   },
   "outputs": [],
   "source": [
    ">>> quote('котик')\n",
    "'%D0%BA%D0%BE%D1%82%D0%B8%D0%BA'\n",
    ">>> unquote('%D0%BA%D0%BE%D1%82%D0%B8%D0%BA')\n",
    "'котик'"
   ]
  }
 ],
 "metadata": {
  "kernelspec": {
   "display_name": "Python 3",
   "language": "python",
   "name": "python3"
  },
  "language_info": {
   "codemirror_mode": {
    "name": "ipython",
    "version": 3
   },
   "file_extension": ".py",
   "mimetype": "text/x-python",
   "name": "python",
   "nbconvert_exporter": "python",
   "pygments_lexer": "ipython3",
   "version": "3.5.1"
  }
 },
 "nbformat": 4,
 "nbformat_minor": 1
}
