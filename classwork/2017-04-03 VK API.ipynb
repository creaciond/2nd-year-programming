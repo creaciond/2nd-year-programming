{
 "cells": [
  {
   "cell_type": "markdown",
   "metadata": {},
   "source": [
    "# VK API"
   ]
  },
  {
   "cell_type": "markdown",
   "metadata": {},
   "source": [
    "## Теория\n",
    "Мы всегда обращаемся к странице ```https://api.vk.com/method/```, к которой всегда применяется какой-то метод. Для этого удобно использовать пакет response, который надо сначала установить:\n",
    "```\n",
    "pip install response\n",
    "```"
   ]
  },
  {
   "cell_type": "markdown",
   "metadata": {},
   "source": [
    "```python\n",
    "    # Сначала надо установить модуль response\n",
    "    import response\n",
    "    \n",
    "    link = 'https://api.vk.com/method/'    # + название метода, который нам нужен + параметры\n",
    "    '''\n",
    "       Например, link = link + 'wall.get' + '?owner_id={}&count={}'.format(1, 10)\n",
    "       Берём первые 10 постов по стены юзера с id 1\n",
    "    '''\n",
    "    response - reqests.get(link)\n",
    "    print(response.text)\n",
    "```"
   ]
  },
  {
   "cell_type": "markdown",
   "metadata": {},
   "source": [
    "## Задание 1\n",
    "Выкачать 10 записей со стены (например, своей)."
   ]
  },
  {
   "cell_type": "code",
   "execution_count": 1,
   "metadata": {
    "collapsed": false
   },
   "outputs": [
    {
     "name": "stdout",
     "output_type": "stream",
     "text": [
      "2) Ну и ладно.\n",
      "3) Постараться не просыпать, не аутировать на парах, видеть жизнь не только из окна универа/дома и в целом быть молодцом<br>#ВНовомГодуЯОбещаю\n",
      "4) Дорогие все!<br><br>🆘 Лаборатория нейролингвистики НИУ ВШЭ продолжает искать испытуемых для своих нескучных экспериментов 🆘<br><br>Вы нам очень нужны, если вам от 18 до 35, вы не лингвист/не учитесь на лингвиста, русский язык для вас родной и у вас нет нарушений речи или чтения.<br><br>Мы также будем очень рады, если у вас есть знакомые в возрасте от 60 лет. Это могут быть ваши бабушки-дедушки, соседи, знакомые, в общем кто угодно. <br><br>Лето давно кончилось, возможно, они скучают сидя в городе, у нас есть для них занятие :)<br><br>📝 Про эксперименты:<br><br>На данный момент у нас ведется два эксперимента, оба связаны с чтением с экрана ноутбука и нажиманием на 1-2 кнопочки (ничего сложного, даже люди незнакомые с компьютерами справляются). Длительность одного из экспериментов около 30 минут, второй эксперимент проводится в два дня, в первый день около 20 минут, второй около 30.<br><br>📍Мы готовы сами к вам приехать в любое место Москвы или Подмосковья. Пишите, все подробно расскажу!\n",
      "5) Я и [id44496545|Аннушка со своей гитарой] тут сделали песню, и будет очень здорово, если вы оцените. <br>Качество записи снова общага edition, но можно сделать вид, что это неважно. <br>Лайки и репосты будут очень кстати. <br>Энджой!\n",
      "6) синтаксис\n",
      "7) Это я иду с утра на любимую работу\n",
      "8) Приглашаем школьников 8-11 классов на I Устную Олимпиаду по Лингвистике! Олимпиада будет проводиться в НИУ ВШЭ 2 октября 2016 года. Начало - 10:00. <br>А ещё создатели УОЛ приглашают вас на Лингвокружок в НИУ ВШЭ. Занятия начнутся в октябре, и все подробности вы узнаете на нашей Олимпиаде. Приходите! <br>По всем вопросам пишите на hseling.for.school@gmail.com\n",
      "10) Робот написал тексты песен как у Егора Летова, а парни из «Яндекса» записали целый альбом. Нейросети захватывают мир потихоньку<br><br>https://meduza.io/shapito/2016/06/28/neyronnaya-oborona-robot-napisal-teksty-pesen-pod-egora-letova\n"
     ]
    }
   ],
   "source": [
    "import requests\n",
    "\n",
    "link = 'https://api.vk.com/method/wall.get'\n",
    "parameters = {'version': '5.62',\n",
    "    'owner_id': '92283380',\n",
    "    'count': '10'}\n",
    "response = requests.get(link, params=parameters)\n",
    "for i in range(1, 11):\n",
    "    text = response.json()['response'][i]['text']\n",
    "    if text: \n",
    "        print(str(i) + ') ' + text)"
   ]
  },
  {
   "cell_type": "markdown",
   "metadata": {},
   "source": [
    "## Задание 2\n",
    "По **screen_name** определить id пользователя."
   ]
  },
  {
   "cell_type": "code",
   "execution_count": 2,
   "metadata": {
    "collapsed": false
   },
   "outputs": [
    {
     "name": "stdout",
     "output_type": "stream",
     "text": [
      "22835189\n"
     ]
    }
   ],
   "source": [
    "import requests\n",
    "\n",
    "link = 'https://api.vk.com/method/users.get'\n",
    "parameters = {'version': '5.62', 'user_ids': 'tanianikulina'}\n",
    "response = requests.get(link, params=parameters)\n",
    "print(response.json()['response'][0]['uid'])"
   ]
  },
  {
   "cell_type": "markdown",
   "metadata": {},
   "source": [
    "## Задание 3\n",
    "Выкачать все комменты к записям из задания 1."
   ]
  },
  {
   "cell_type": "code",
   "execution_count": 3,
   "metadata": {
    "collapsed": false
   },
   "outputs": [
    {
     "name": "stdout",
     "output_type": "stream",
     "text": [
      "https://vk.com/photo792255_456239504\n",
      "Vous aurez une leçon de français le samedi 14 janvier à 9 heures, bonne chance avec \"не просыпать\"❤\n",
      "[id9736421|Марина], mais samedi le 14 janvier je ne serai pas en Russie 😁\n",
      "mais Dacha, ce n'est pas juste!!!<br>(ok bon, vous allez avoir des leçons tous les samedis, j'espère et sans moi😼)\n",
      "синтаксис в одном ряду со смешными словами ушлепок, втулка, дряблый - это сильно!\n",
      "[id9736421|Марина], синтаксис — это скорее истерически смешно порой (но вообще, это здесь ради котика, конечно)\n",
      "похожесть русского \"школа\" и английского \"school\" не катит. Оба заимствованы у пожирателей оливок (извини за непроизвольный кеннинг))\n",
      "[id77362471|Георгий], ну так в том-то и прикол!\n",
      "[id92283380|Дарья], не, ну это не прикол. Если бы ты сказала, что слова \"queen\" и \"жена\" однокоренные - это было бы интереснее :)\n",
      "Georgy, тогда так: слова бык и пчела на глубинном уровне однокоренные.\n",
      "K P A C U B O\n",
      "такая чудесная\n",
      "Quelle robe! 😍\n",
      "❤️❤️❤️❤️❤️\n",
      "Такая женственная!\n",
      "Послушал - подумал, что Летов ожил\n",
      "Emil, Летов жил, Летов жив..? 😁\n",
      "Дарья, Летов будет жить 😂\n"
     ]
    }
   ],
   "source": [
    "import requests\n",
    "\n",
    "link_posts = 'https://api.vk.com/method/wall.get'\n",
    "link_comments = 'https://api.vk.com/method/wall.getComments'\n",
    "parameters_posts = {'version': '5.62',\n",
    "                    'owner_id': '92283380',\n",
    "                    'count': '100'}\n",
    "parameters_comments = {'version': '5.62',\n",
    "                       'owner_id': '92283380',\n",
    "                       'post_id': '',\n",
    "                       'count':'100'}\n",
    "response_posts = requests.get(link_posts, params=parameters_posts).json()['response']\n",
    "for i in range (1, 11):\n",
    "    parameters_comments['post_id'] = response_posts[i]['id']\n",
    "    comments_dict = requests.get(link_comments, params=parameters_comments).json()['response']\n",
    "    if len(comments_dict) > 1:\n",
    "        for j in range (1, len(comments_dict)):\n",
    "            print(comments_dict[j]['text'])"
   ]
  }
 ],
 "metadata": {
  "kernelspec": {
   "display_name": "Python 3",
   "language": "python",
   "name": "python3"
  },
  "language_info": {
   "codemirror_mode": {
    "name": "ipython",
    "version": 3
   },
   "file_extension": ".py",
   "mimetype": "text/x-python",
   "name": "python",
   "nbconvert_exporter": "python",
   "pygments_lexer": "ipython3",
   "version": "3.6.0"
  }
 },
 "nbformat": 4,
 "nbformat_minor": 2
}
