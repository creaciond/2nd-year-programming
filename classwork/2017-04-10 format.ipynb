{
 "cells": [
  {
   "cell_type": "markdown",
   "metadata": {},
   "source": [
    "#  Matplotlib, функция format\n",
    "```format``` используется для форматирования строк."
   ]
  },
  {
   "cell_type": "code",
   "execution_count": 1,
   "metadata": {
    "collapsed": false
   },
   "outputs": [
    {
     "name": "stdout",
     "output_type": "stream",
     "text": [
      "Ваше имя: John\n"
     ]
    }
   ],
   "source": [
    "print('Ваше имя: {}'.format('John'))"
   ]
  },
  {
   "cell_type": "markdown",
   "metadata": {},
   "source": [
    "Обязательно указать фигурные скобки-плейсхолдеры ```{}```, а внутри ```format``` — то, на что заменяется:"
   ]
  },
  {
   "cell_type": "code",
   "execution_count": 2,
   "metadata": {
    "collapsed": false
   },
   "outputs": [
    {
     "name": "stdout",
     "output_type": "stream",
     "text": [
      "Ваше имя: John\n"
     ]
    }
   ],
   "source": [
    "name = 'John'\n",
    "print('Ваше имя: {}'.format(name))"
   ]
  },
  {
   "cell_type": "markdown",
   "metadata": {},
   "source": [
    "При помощи ```format``` можно редактировать и цифры тоже. Например, ```'{:02}'.format(num)``` собирает строки длины 2, используя цифру в переменной ```num```.\n",
    "Подробнее про ```format```: https://docs.python.org/3.1/library/string.html#format-examples"
   ]
  },
  {
   "cell_type": "markdown",
   "metadata": {},
   "source": [
    "## Задание 1\n",
    "Составьте список 10 аккаунтов, которые чаще всего ретвитил аккаунт Сколково. Ретвиты начинаются с RT, аккаунт автора указывается сразу после RT, например: RT @sk_ru_live. Наприсуйте столбчатую диаграмму, показывающую количество ретвитов из каждого найденного аккаунта."
   ]
  },
  {
   "cell_type": "code",
   "execution_count": null,
   "metadata": {
    "collapsed": false
   },
   "outputs": [],
   "source": [
    "import matplotlib.pyplot as plt\n",
    "\n",
    "sk_tweets = open('./skolkovo_ru.csv', 'r', encoding='utf-8').readlines()\n",
    "account_retweeted = {}\n",
    "for tweet in sk_tweets:\n",
    "    tweet_split = tweet.split()\n",
    "    if 'RT' in tweet_split[5]:\n",
    "        account = tweet_split[6][:-1]\n",
    "        if account not in set(account_retweeted.keys()):\n",
    "              account_retweeted[account] = 1\n",
    "        else:\n",
    "              account_retweeted[account] += 1\n",
    "# создаём данные для графика\n",
    "account_labels = []\n",
    "account_labels = sorted(account_retweeted.keys())\n",
    "retweet_nums = []\n",
    "retweet_nums = (account_retweeted[account] for account in account_retweeted.keys())\n",
    "# рисуем графики\n",
    "plt.bar(account_retweeted.keys(), retweet_nums)\n",
    "plt.xticks(account_retweeted.keys(), account_labels)\n",
    "plt.show()"
   ]
  },
  {
   "cell_type": "markdown",
   "metadata": {},
   "source": [
    "## Задание 2\n",
    "Составьте график длины твитов аккаунта Сколоково (ретвиты не считать). На то же изображение добавьте такой же график, построенный по аккаунту генпрокуратуры."
   ]
  },
  {
   "cell_type": "code",
   "execution_count": null,
   "metadata": {
    "collapsed": false
   },
   "outputs": [],
   "source": [
    "import matplotlib.pyplot as plt\n",
    "\n",
    "def get_length(tweets_address):\n",
    "    tweets = open(tweets_address, 'r', encoding='utf-8').readlines()\n",
    "    tweet_length = {}\n",
    "    for tweet in tweets:\n",
    "        length = 0\n",
    "        if 'RT' not in tweet.split()[5]:\n",
    "            for i in range(5, len(tweet.split())-1):\n",
    "                length += len(tweet.split()[i])\n",
    "            if length not in set(tweet_length.keys()):\n",
    "                tweet_length[length] = 1\n",
    "            else:\n",
    "                tweet_length[length] += 1\n",
    "    return tweet_length\n",
    "# словари: ключ — длина твитов, значение — количество твитов с такой длиной\n",
    "sk_length = get_length('./skolkovo_ru.csv')\n",
    "sk_length_amount = (sk_length[len] for len in sk_length.keys())\n",
    "genproc_length = get_length('./Genproc.csv')\n",
    "gernproc_length_amount = (genproc_length[len] for len in genproc_length.keys())\n",
    "# рисуем графики\n",
    "plt.plot(sorted(sk_length), sk_length_amount, 'g', label='Генпрокуратура')\n",
    "plt.plot(sorted(genproc_length), genproc_length_amount, 'c', label='Сколково')\n",
    "plt.title('Твиты по длине')\n",
    "plt.ylabel('Количество твитов')\n",
    "plt.xlabel('Длина')\n",
    "plt.legend()\n",
    "plt.show()"
   ]
  }
 ],
 "metadata": {
  "kernelspec": {
   "display_name": "Python 3",
   "language": "python",
   "name": "python3"
  },
  "language_info": {
   "codemirror_mode": {
    "name": "ipython",
    "version": 3
   },
   "file_extension": ".py",
   "mimetype": "text/x-python",
   "name": "python",
   "nbconvert_exporter": "python",
   "pygments_lexer": "ipython3",
   "version": "3.6.0"
  }
 },
 "nbformat": 4,
 "nbformat_minor": 2
}
