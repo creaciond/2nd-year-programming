{
 "cells": [
  {
   "cell_type": "markdown",
   "metadata": {},
   "source": [
    "# Проект, лето 2 курса\n",
    "## Задание\n",
    "Телеграм-бот для RusVectores: пользователь даёт список слов (сколько угодно больше двух), а бот, используя API RusVectores, вычисляет их попарную семантическую близость и строит граф (узлы - слова), ребра разной толщины в зависимости от коэффициента близости). Пользователю бот отдаёт визуализацию и списки попарной близости слов."
   ]
  },
  {
   "cell_type": "markdown",
   "metadata": {},
   "source": [
    "## Conf.py"
   ]
  },
  {
   "cell_type": "code",
   "execution_count": null,
   "metadata": {
    "collapsed": true
   },
   "outputs": [],
   "source": [
    "TOKEN = \"token\"\n",
    "WEBHOOK_HOST = 'rusvectoresgraph.pythonanywhere.com'\n",
    "WEBHOOK_PORT = '443'"
   ]
  },
  {
   "cell_type": "markdown",
   "metadata": {},
   "source": [
    "## main_code.py"
   ]
  },
  {
   "cell_type": "code",
   "execution_count": null,
   "metadata": {
    "collapsed": true
   },
   "outputs": [],
   "source": [
    "# -*- coding: utf-8 -*-\n",
    "import telebot\n",
    "import conf\n",
    "import flask\n",
    "\n",
    "'''\n",
    "    BOT\n",
    "'''\n",
    "# CREATING A BOT\n",
    "bot = telebot.TeleBot(conf.TOKEN, threaded=False)\n",
    "app = flask.Flask(__name__)\n",
    "\n",
    "\n",
    "# WEBHOOKS\n",
    "# webhook URLs and tokens — in conf.py\n",
    "WEBHOOK_URL_BASE = \"https://{}:{}\".format(conf.WEBHOOK_HOST, conf.WEBHOOK_PORT)\n",
    "WEBHOOK_URL_PATH = \"/{}/\".format(conf.TOKEN)\n",
    "bot.remove_webhook()\n",
    "bot.set_webhook(url=WEBHOOK_URL_BASE + WEBHOOK_URL_PATH)\n",
    "\n",
    "\n",
    "# send_welcome() function for /start или /help\n",
    "@bot.message_handler(commands=['start', 'help'])\n",
    "def send_welcome(message):\n",
    "\tbot.send_message(message.chat.id, \"Привет! Этот бот умеет вычислять семантическую близость двух слов и строить граф, где отображается близость этих слов. \\n\" +\n",
    "                    \"Для того, чтобы получить граф, введите больше одного слова, разделённых пробелом \\(например, \\\"кот кошка играть\\\"\\).\")\n",
    "\n",
    "\n",
    "'''\n",
    "    FLASK\n",
    "'''\n",
    "# empty main for check\n",
    "@app.route('/', methods=['GET', 'HEAD'])\n",
    "def index():\n",
    "    return 'ok'\n",
    "\n",
    "\n",
    "# webhook handling\n",
    "@app.route(WEBHOOK_URL_PATH, methods=['POST'])\n",
    "def webhook():\n",
    "    if flask.request.headers.get('content-type') == 'application/json':\n",
    "        json_string = flask.request.get_data().decode('utf-8')\n",
    "        update = telebot.types.Update.de_json(json_string)\n",
    "        bot.process_new_updates([update])\n",
    "        return ''\n",
    "    else:\n",
    "        flask.abort(403)\n",
    "\n",
    "\n",
    "'''\n",
    "    MAIN\n",
    "'''\n",
    "if __name__ == '__main__':\n",
    "    bot.polling(none_stop=True)"
   ]
  }
 ],
 "metadata": {
  "kernelspec": {
   "display_name": "Python 3",
   "language": "python",
   "name": "python3"
  },
  "language_info": {
   "codemirror_mode": {
    "name": "ipython",
    "version": 3.0
   },
   "file_extension": ".py",
   "mimetype": "text/x-python",
   "name": "python",
   "nbconvert_exporter": "python",
   "pygments_lexer": "ipython3",
   "version": "3.6.0"
  }
 },
 "nbformat": 4,
 "nbformat_minor": 0
}